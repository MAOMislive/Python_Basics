{
  "nbformat": 4,
  "nbformat_minor": 0,
  "metadata": {
    "colab": {
      "provenance": []
    },
    "kernelspec": {
      "name": "python3",
      "display_name": "Python 3"
    },
    "language_info": {
      "name": "python"
    }
  },
  "cells": [
    {
      "cell_type": "markdown",
      "source": [
        "# **Basics of Python**"
      ],
      "metadata": {
        "id": "7lIZQgfapket"
      }
    },
    {
      "cell_type": "code",
      "execution_count": null,
      "metadata": {
        "colab": {
          "base_uri": "https://localhost:8080/"
        },
        "id": "g1rDuQYtSpbs",
        "outputId": "70be85e2-226b-49da-b6f8-fe9f8093f3a0"
      },
      "outputs": [
        {
          "output_type": "stream",
          "name": "stdout",
          "text": [
            "Hello World Hi\n"
          ]
        }
      ],
      "source": [
        "print('Hello World Hi')"
      ]
    },
    {
      "cell_type": "code",
      "source": [
        "print('DBMS Champion 101')"
      ],
      "metadata": {
        "colab": {
          "base_uri": "https://localhost:8080/"
        },
        "id": "fqDSTIjaTRjD",
        "outputId": "78a02cbb-6754-4039-9c77-181e7496fba6"
      },
      "execution_count": null,
      "outputs": [
        {
          "output_type": "stream",
          "name": "stdout",
          "text": [
            "DBMS Champion 101\n"
          ]
        }
      ]
    },
    {
      "cell_type": "code",
      "source": [
        "student_ID = 11212115\n",
        "student_name = '''Nayem'''\n",
        "student_cgpa = 3.5\n",
        "is_eligible = True\n",
        "\n",
        "print(student_ID)\n",
        "print(student_name)\n",
        "print(student_cgpa)\n",
        "print(is_eligible)\n",
        "\n",
        "print(type(student_ID))\n",
        "print(type(student_name))\n",
        "\n"
      ],
      "metadata": {
        "colab": {
          "base_uri": "https://localhost:8080/"
        },
        "id": "nDknZddzTjii",
        "outputId": "5c581eae-3271-4b80-8fcf-658426c6bdce"
      },
      "execution_count": null,
      "outputs": [
        {
          "output_type": "stream",
          "name": "stdout",
          "text": [
            "11212115\n",
            "Nayem\n",
            "3.5\n",
            "True\n",
            "<class 'int'>\n",
            "<class 'str'>\n"
          ]
        }
      ]
    },
    {
      "cell_type": "code",
      "source": [
        "x = 3\n",
        "y = 3.5\n",
        "z = 3 + 2j \n",
        "\n",
        "print(type(z))\n",
        "print(z)\n",
        "print(type(z.real))\n",
        "print(z.real)\n",
        "print(type(z))\n",
        "print(z.imag)"
      ],
      "metadata": {
        "colab": {
          "base_uri": "https://localhost:8080/"
        },
        "id": "A8e5pjEYWMS4",
        "outputId": "e9a25785-7de8-4f10-aefe-f70e8fe6af6b"
      },
      "execution_count": null,
      "outputs": [
        {
          "output_type": "stream",
          "name": "stdout",
          "text": [
            "<class 'complex'>\n",
            "(3+2j)\n",
            "<class 'float'>\n",
            "3.0\n",
            "<class 'complex'>\n",
            "2.0\n"
          ]
        }
      ]
    },
    {
      "cell_type": "code",
      "source": [
        "# Taking Input \n",
        "a = input('Enter a number: ')\n",
        "print('You have entered: '+a)"
      ],
      "metadata": {
        "colab": {
          "base_uri": "https://localhost:8080/"
        },
        "id": "R__YcKR9YFbL",
        "outputId": "e1d2d4c6-6638-4f23-b973-3b957625323f"
      },
      "execution_count": null,
      "outputs": [
        {
          "output_type": "stream",
          "name": "stdout",
          "text": [
            "Enter a number: 5\n",
            "You have entered: 5\n"
          ]
        }
      ]
    },
    {
      "cell_type": "code",
      "source": [
        "a = int(input('Enter a number: '))\n",
        "a=a+10\n",
        "print(a)"
      ],
      "metadata": {
        "colab": {
          "base_uri": "https://localhost:8080/"
        },
        "id": "7GG7gTDAY6fV",
        "outputId": "a0669755-d5b0-4315-9ccb-800731f5cead"
      },
      "execution_count": null,
      "outputs": [
        {
          "output_type": "stream",
          "name": "stdout",
          "text": [
            "Enter a number: 10\n",
            "20\n"
          ]
        }
      ]
    },
    {
      "cell_type": "code",
      "source": [
        "message = \"Python Programming\"\n",
        "print(len(message))\n",
        "print(message[1])\n",
        "print(message[-2]) \n",
        "print(message[0:3])\n",
        "print(message[2:5])\n",
        "print(message.lower())\n",
        "print(message.upper())\n",
        "print(message[:5])\n",
        "print(message[5:])\n",
        "\n",
        "print(message.find(\"pro\"))\n",
        "print(message.find(\"Pro\"))\n",
        "print(message.replace(\"P\", \"J\"))"
      ],
      "metadata": {
        "colab": {
          "base_uri": "https://localhost:8080/"
        },
        "id": "57OPYsLzaDVB",
        "outputId": "439e644f-7d3b-4f29-a573-6877e266a096"
      },
      "execution_count": null,
      "outputs": [
        {
          "output_type": "stream",
          "name": "stdout",
          "text": [
            "18\n",
            "y\n",
            "n\n",
            "Pyt\n"
          ]
        }
      ]
    },
    {
      "cell_type": "markdown",
      "source": [
        "# **Operators**\n",
        "* Arithmetic operator\n",
        "* Logical\n",
        "* Relational\n",
        "* Shorthand"
      ],
      "metadata": {
        "id": "dgdUgwY_dW-Q"
      }
    },
    {
      "cell_type": "code",
      "source": [
        "# Arithmetric Operators\n",
        "\n",
        "x = 11;\n",
        "y = 5;\n",
        "\n",
        "print(x+y)\n",
        "print(x-y)\n",
        "print(x*y)\n",
        "print()\n"
      ],
      "metadata": {
        "id": "7ILgDvwrbDUV"
      },
      "execution_count": null,
      "outputs": []
    },
    {
      "cell_type": "markdown",
      "source": [
        "# **3 number reverse**"
      ],
      "metadata": {
        "id": "BNwm5LaydpnQ"
      }
    },
    {
      "cell_type": "code",
      "source": [
        "num = int(input(\"Enter the number:\"))\n",
        "\n",
        "a = int(num%10)\n",
        "num = num - a\n",
        "num = num/10\n",
        "\n",
        "b = int(num%10)\n",
        "num = num - b\n",
        "num = num/10\n",
        "\n",
        "c = int(num%10)\n",
        "\n",
        "print(str(a) + str(b) + str(c))"
      ],
      "metadata": {
        "colab": {
          "base_uri": "https://localhost:8080/"
        },
        "id": "OLiSI6yDeVhm",
        "outputId": "5edc5974-40e2-4f39-c9ae-75e88aa86d21"
      },
      "execution_count": null,
      "outputs": [
        {
          "output_type": "stream",
          "name": "stdout",
          "text": [
            "Enter the number:531\n",
            "135\n"
          ]
        }
      ]
    },
    {
      "cell_type": "code",
      "source": [
        "#Relational Operators ---  <, >, <=, >=, ==, !=\n",
        "\n",
        "print(2 < 5)\n",
        "print(2 == 5)"
      ],
      "metadata": {
        "colab": {
          "base_uri": "https://localhost:8080/"
        },
        "id": "stacPxehiHLQ",
        "outputId": "1d7c2ea2-7ae2-45e3-df15-f6d5eed07723"
      },
      "execution_count": null,
      "outputs": [
        {
          "output_type": "stream",
          "name": "stdout",
          "text": [
            "True\n",
            "False\n"
          ]
        }
      ]
    },
    {
      "cell_type": "code",
      "source": [
        "#Logical Operators\n",
        "\n",
        "print(2 < 5 and 2 == 5)\n",
        "print(2 < 5 and not 2 == 5)"
      ],
      "metadata": {
        "id": "EF-gpMLnifR9"
      },
      "execution_count": null,
      "outputs": []
    },
    {
      "cell_type": "code",
      "source": [
        "#Shorthand Assignment Operator --- ++, -+, *+, ..."
      ],
      "metadata": {
        "id": "Pj4IW02yiep2"
      },
      "execution_count": null,
      "outputs": []
    },
    {
      "cell_type": "markdown",
      "source": [
        "# **Conditional Statement**"
      ],
      "metadata": {
        "id": "S0xndvsNjMwI"
      }
    },
    {
      "cell_type": "code",
      "source": [
        "gender = 'm'\n",
        "types = \"male\"\n",
        "\n",
        "if gender == 'F' or gender == 'f':\n",
        "  print(\"Welcome to our beauty parlor!\")\n",
        "elif gender == 'm' and types == 'male' :\n",
        "  print(\"Okay\")\n",
        "else:\n",
        "  print(\"Sorry!, you are not allowed!!!\")"
      ],
      "metadata": {
        "colab": {
          "base_uri": "https://localhost:8080/"
        },
        "id": "6P27SvvbjQZu",
        "outputId": "12df5f73-735e-43a0-c7b9-c6737aa55107"
      },
      "execution_count": null,
      "outputs": [
        {
          "output_type": "stream",
          "name": "stdout",
          "text": [
            "Okay\n"
          ]
        }
      ]
    },
    {
      "cell_type": "code",
      "source": [
        "student = \"Rahad Khan\"\n",
        "if 'A' in student:\n",
        "  print(\"Found\")\n",
        "else:\n",
        "  print(\"Not Found\") "
      ],
      "metadata": {
        "colab": {
          "base_uri": "https://localhost:8080/"
        },
        "id": "9N3_Jnttj5Vv",
        "outputId": "9824278b-a2a6-41e8-9628-2361d0a013ec"
      },
      "execution_count": null,
      "outputs": [
        {
          "output_type": "stream",
          "name": "stdout",
          "text": [
            "Not Found\n"
          ]
        }
      ]
    },
    {
      "cell_type": "code",
      "source": [
        "for i in range(5) :  #range(start, end, stepover)\n",
        "  print(f'i:{i}')"
      ],
      "metadata": {
        "colab": {
          "base_uri": "https://localhost:8080/"
        },
        "id": "M3g8FOL6k6nO",
        "outputId": "9fb052ce-963a-447b-c9e8-0cc1a4f33c4c"
      },
      "execution_count": null,
      "outputs": [
        {
          "output_type": "stream",
          "name": "stdout",
          "text": [
            "i:0\n",
            "i:1\n",
            "i:2\n",
            "i:3\n",
            "i:4\n"
          ]
        }
      ]
    },
    {
      "cell_type": "code",
      "source": [
        "for i in range(2, 5) :  #range(start, end, stepover)\n",
        "  print(f'j:{i}')"
      ],
      "metadata": {
        "colab": {
          "base_uri": "https://localhost:8080/"
        },
        "id": "YZnp1wo9l4tF",
        "outputId": "7f789ea3-5c65-408f-a05b-99bf1466be35"
      },
      "execution_count": null,
      "outputs": [
        {
          "output_type": "stream",
          "name": "stdout",
          "text": [
            "j:2\n",
            "j:3\n",
            "j:4\n"
          ]
        }
      ]
    },
    {
      "cell_type": "code",
      "source": [
        "for i in range(0, 10, 2) :  #range(start, end, stepover)\n",
        "  print(f'k:{i}')"
      ],
      "metadata": {
        "colab": {
          "base_uri": "https://localhost:8080/"
        },
        "id": "FSBipTyYmcId",
        "outputId": "eaf7e13b-0d7c-4aa5-9a63-bb3df0717959"
      },
      "execution_count": null,
      "outputs": [
        {
          "output_type": "stream",
          "name": "stdout",
          "text": [
            "k:0\n",
            "k:2\n",
            "k:4\n",
            "k:6\n",
            "k:8\n"
          ]
        }
      ]
    },
    {
      "cell_type": "code",
      "source": [
        "print(\"*\"*10)\n",
        "\n",
        "for i in range(1, 6, 1) :  #range(start, end, stepover)\n",
        "  print(\"* \"*i)"
      ],
      "metadata": {
        "colab": {
          "base_uri": "https://localhost:8080/"
        },
        "id": "ZWVRtqkvmhtt",
        "outputId": "7c40ab8b-8e56-4277-cc01-b46dc5bdfdcb"
      },
      "execution_count": null,
      "outputs": [
        {
          "output_type": "stream",
          "name": "stdout",
          "text": [
            "**********\n",
            "* \n",
            "* * \n",
            "* * * \n",
            "* * * * \n",
            "* * * * * \n"
          ]
        }
      ]
    },
    {
      "cell_type": "code",
      "source": [
        "for i in range(1, 6, 1) :  #range(start, end, stepover)\n",
        "  print(\" \"*(6-i) + \"* \"*i)"
      ],
      "metadata": {
        "colab": {
          "base_uri": "https://localhost:8080/"
        },
        "id": "3xqa_A8pm04F",
        "outputId": "854c2721-6af5-44a1-ff7c-76efc02c59c7"
      },
      "execution_count": null,
      "outputs": [
        {
          "output_type": "stream",
          "name": "stdout",
          "text": [
            "     * \n",
            "    * * \n",
            "   * * * \n",
            "  * * * * \n",
            " * * * * * \n"
          ]
        }
      ]
    },
    {
      "cell_type": "code",
      "source": [],
      "metadata": {
        "id": "Uain2W73m9Xl"
      },
      "execution_count": null,
      "outputs": []
    }
  ]
}
